{
 "cells": [
  {
   "cell_type": "markdown",
   "id": "f1bc1f69",
   "metadata": {},
   "source": [
    "## Домашнее задание 2"
   ]
  },
  {
   "cell_type": "markdown",
   "id": "a57a560c",
   "metadata": {},
   "source": [
    "Студент: Киселев Георгий"
   ]
  },
  {
   "cell_type": "code",
   "execution_count": 12,
   "id": "e70b914d",
   "metadata": {},
   "outputs": [],
   "source": [
    "import gdown\n",
    "import os\n",
    "import zipfile\n",
    "from torch import nn"
   ]
  },
  {
   "cell_type": "markdown",
   "id": "61b66295",
   "metadata": {},
   "source": [
    "### Загрузка датасета"
   ]
  },
  {
   "cell_type": "code",
   "execution_count": 8,
   "id": "0d16acfd",
   "metadata": {},
   "outputs": [],
   "source": [
    "os.makedirs('dataset/celeba', exist_ok=True)\n",
    "\n",
    "if 'img_align_celeba.zip' not in os.listdir():\n",
    "    url = 'https://drive.google.com/uc?id=0B7EVK8r0v71pZjFTYXZWM3FlRnM'\n",
    "    output = 'dataset/celeba/img_align_celeba.zip'\n",
    "    gdown.download(url, output, quiet=False)\n",
    "else:\n",
    "    with zipfile.ZipFile('img_align_celeba.zip') as zip:\n",
    "        zip.extractall('dataset/celeba')"
   ]
  },
  {
   "cell_type": "code",
   "execution_count": 7,
   "id": "d3164cc8",
   "metadata": {},
   "outputs": [],
   "source": [
    "if 'identity_CelebA.txt' in os.listdir():\n",
    "    os.rename('identity_CelebA.txt', 'dataset/celeba/identity_CelebA.txt')"
   ]
  },
  {
   "cell_type": "markdown",
   "id": "cf3a38a0",
   "metadata": {},
   "source": [
    "### Создание модели"
   ]
  },
  {
   "cell_type": "markdown",
   "id": "311279fa",
   "metadata": {},
   "source": [
    "#### CSPup блок"
   ]
  },
  {
   "cell_type": "code",
   "execution_count": null,
   "id": "07e0f0e6",
   "metadata": {},
   "outputs": [],
   "source": [
    "class CSPup(nn.Module):\n",
    "    '''\n",
    "    def __init__(self):\n",
    "        super(CSPup, self).__init__()\n",
    "        self.left_half = \n",
    "\n",
    "    \n",
    "    def forward(self, x):'''\n"
   ]
  },
  {
   "cell_type": "code",
   "execution_count": 14,
   "id": "991b8daf",
   "metadata": {},
   "outputs": [],
   "source": [
    "class Generator(nn.Module):\n",
    "    pass"
   ]
  },
  {
   "cell_type": "code",
   "execution_count": 15,
   "id": "015921ad",
   "metadata": {},
   "outputs": [],
   "source": [
    "class GAN(nn.Module):\n",
    "    pass"
   ]
  },
  {
   "cell_type": "code",
   "execution_count": null,
   "id": "4888ade7",
   "metadata": {},
   "outputs": [],
   "source": []
  }
 ],
 "metadata": {
  "kernelspec": {
   "display_name": ".venv",
   "language": "python",
   "name": "python3"
  },
  "language_info": {
   "codemirror_mode": {
    "name": "ipython",
    "version": 3
   },
   "file_extension": ".py",
   "mimetype": "text/x-python",
   "name": "python",
   "nbconvert_exporter": "python",
   "pygments_lexer": "ipython3",
   "version": "3.12.0"
  }
 },
 "nbformat": 4,
 "nbformat_minor": 5
}

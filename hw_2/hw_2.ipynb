{
 "cells": [
  {
   "cell_type": "code",
   "execution_count": 7,
   "id": "e70b914d",
   "metadata": {},
   "outputs": [],
   "source": [
    "from torchvision.datasets import CelebA\n",
    "import gdown\n",
    "import os\n",
    "import wget"
   ]
  },
  {
   "cell_type": "code",
   "execution_count": null,
   "id": "0d16acfd",
   "metadata": {},
   "outputs": [
    {
     "ename": "RuntimeError",
     "evalue": "Dataset not found or corrupted. You can use download=True to download it",
     "output_type": "error",
     "traceback": [
      "\u001b[31m---------------------------------------------------------------------------\u001b[39m",
      "\u001b[31mRuntimeError\u001b[39m                              Traceback (most recent call last)",
      "\u001b[36mCell\u001b[39m\u001b[36m \u001b[39m\u001b[32mIn[13]\u001b[39m\u001b[32m, line 8\u001b[39m\n\u001b[32m      5\u001b[39m     output = \u001b[33m'\u001b[39m\u001b[33mdataset/celeba/img_align_celeba.zip\u001b[39m\u001b[33m'\u001b[39m\n\u001b[32m      6\u001b[39m     gdown.download(url, output, quiet=\u001b[38;5;28;01mFalse\u001b[39;00m)\n\u001b[32m----> \u001b[39m\u001b[32m8\u001b[39m dataset = \u001b[43mCelebA\u001b[49m\u001b[43m(\u001b[49m\u001b[43mroot\u001b[49m\u001b[43m=\u001b[49m\u001b[33;43m'\u001b[39;49m\u001b[33;43mdataset/celeba\u001b[39;49m\u001b[33;43m'\u001b[39;49m\u001b[43m)\u001b[49m\n",
      "\u001b[36mFile \u001b[39m\u001b[32mc:\\Users\\coolg\\deep_gen\\hw_2\\.venv\\Lib\\site-packages\\torchvision\\datasets\\celeba.py:88\u001b[39m, in \u001b[36mCelebA.__init__\u001b[39m\u001b[34m(self, root, split, target_type, transform, target_transform, download)\u001b[39m\n\u001b[32m     85\u001b[39m     \u001b[38;5;28mself\u001b[39m.download()\n\u001b[32m     87\u001b[39m \u001b[38;5;28;01mif\u001b[39;00m \u001b[38;5;129;01mnot\u001b[39;00m \u001b[38;5;28mself\u001b[39m._check_integrity():\n\u001b[32m---> \u001b[39m\u001b[32m88\u001b[39m     \u001b[38;5;28;01mraise\u001b[39;00m \u001b[38;5;167;01mRuntimeError\u001b[39;00m(\u001b[33m\"\u001b[39m\u001b[33mDataset not found or corrupted. You can use download=True to download it\u001b[39m\u001b[33m\"\u001b[39m)\n\u001b[32m     90\u001b[39m split_map = {\n\u001b[32m     91\u001b[39m     \u001b[33m\"\u001b[39m\u001b[33mtrain\u001b[39m\u001b[33m\"\u001b[39m: \u001b[32m0\u001b[39m,\n\u001b[32m     92\u001b[39m     \u001b[33m\"\u001b[39m\u001b[33mvalid\u001b[39m\u001b[33m\"\u001b[39m: \u001b[32m1\u001b[39m,\n\u001b[32m     93\u001b[39m     \u001b[33m\"\u001b[39m\u001b[33mtest\u001b[39m\u001b[33m\"\u001b[39m: \u001b[32m2\u001b[39m,\n\u001b[32m     94\u001b[39m     \u001b[33m\"\u001b[39m\u001b[33mall\u001b[39m\u001b[33m\"\u001b[39m: \u001b[38;5;28;01mNone\u001b[39;00m,\n\u001b[32m     95\u001b[39m }\n\u001b[32m     96\u001b[39m split_ = split_map[\n\u001b[32m     97\u001b[39m     verify_str_arg(\n\u001b[32m     98\u001b[39m         split.lower() \u001b[38;5;28;01mif\u001b[39;00m \u001b[38;5;28misinstance\u001b[39m(split, \u001b[38;5;28mstr\u001b[39m) \u001b[38;5;28;01melse\u001b[39;00m split,\n\u001b[32m   (...)\u001b[39m\u001b[32m    101\u001b[39m     )\n\u001b[32m    102\u001b[39m ]\n",
      "\u001b[31mRuntimeError\u001b[39m: Dataset not found or corrupted. You can use download=True to download it"
     ]
    }
   ],
   "source": [
    "os.makedirs('dataset/celeba', exist_ok=True)\n",
    "\n",
    "if 'img_align_celeba.zip' not in os.listdir('dataset/celeba'):\n",
    "    url = 'https://drive.google.com/uc?id=0B7EVK8r0v71pZjFTYXZWM3FlRnM'\n",
    "    output = 'dataset/celeba/img_align_celeba.zip'\n",
    "    gdown.download(url, output, quiet=False)\n",
    "\n",
    "dataset = CelebA(root='dataset', split='all', target_type='identity', download=False)"
   ]
  },
  {
   "cell_type": "code",
   "execution_count": null,
   "id": "ad9dd23d",
   "metadata": {},
   "outputs": [],
   "source": []
  }
 ],
 "metadata": {
  "kernelspec": {
   "display_name": ".venv",
   "language": "python",
   "name": "python3"
  },
  "language_info": {
   "codemirror_mode": {
    "name": "ipython",
    "version": 3
   },
   "file_extension": ".py",
   "mimetype": "text/x-python",
   "name": "python",
   "nbconvert_exporter": "python",
   "pygments_lexer": "ipython3",
   "version": "3.12.0"
  }
 },
 "nbformat": 4,
 "nbformat_minor": 5
}

{
 "cells": [
  {
   "cell_type": "code",
   "execution_count": 6,
   "id": "7f114c43",
   "metadata": {},
   "outputs": [],
   "source": [
    "import wget\n",
    "import zipfile"
   ]
  },
  {
   "cell_type": "code",
   "execution_count": 7,
   "id": "6f3cda6a",
   "metadata": {},
   "outputs": [],
   "source": [
    "with zipfile.ZipFile('dataset.zip') as zipfile:\n",
    "    zipfile.extractall()"
   ]
  },
  {
   "cell_type": "code",
   "execution_count": null,
   "id": "be30ea6a",
   "metadata": {},
   "outputs": [],
   "source": []
  }
 ],
 "metadata": {
  "kernelspec": {
   "display_name": ".venv",
   "language": "python",
   "name": "python3"
  },
  "language_info": {
   "codemirror_mode": {
    "name": "ipython",
    "version": 3
   },
   "file_extension": ".py",
   "mimetype": "text/x-python",
   "name": "python",
   "nbconvert_exporter": "python",
   "pygments_lexer": "ipython3",
   "version": "3.12.0"
  }
 },
 "nbformat": 4,
 "nbformat_minor": 5
}
